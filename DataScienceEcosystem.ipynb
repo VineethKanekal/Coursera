{
 "cells": [
  {
   "cell_type": "markdown",
   "id": "2801bdab-a8d9-4bd3-b3b9-16fe62d90bf6",
   "metadata": {},
   "source": [
    "Data Science Tools and Ecosystem"
   ]
  },
  {
   "cell_type": "markdown",
   "id": "fc53e249-6f88-42ce-a6ca-6123f55ef76a",
   "metadata": {},
   "source": [
    "In this notebook, Data Science Tools and Ecosystem are summarized."
   ]
  },
  {
   "cell_type": "markdown",
   "id": "1b07115d-3185-491c-9892-20844d53eef5",
   "metadata": {},
   "source": [
    "Objectives:\n",
    "1. To understand the importance of data science in real world and how it helps in achieving the solution for various problems, with the usage of various languages, libraries and tools of data science.\n",
    "2. An introduction to Jupyter Notebook and JupyterLab, RStudio IDE, GitHub, Watson Studio & various IBM tools were explained.\n",
    "3. To get acquainted with Skill Network Labs interface using various languages."
   ]
  },
  {
   "cell_type": "markdown",
   "id": "4450666d-62ff-4417-9e9a-c8bb5f48b842",
   "metadata": {},
   "source": [
    "Some of the most popular languages that Data Scientists use are as follows:\n",
    "1. Python\n",
    "2. R\n",
    "3. SQL\n",
    "4. C/C++\n",
    "5. Java/JavaScript\n",
    "6. Matlab\n",
    "7. Scala\n",
    "8. Julia"
   ]
  },
  {
   "cell_type": "markdown",
   "id": "d998e70b-de4c-4d92-a97e-8bd796d958cf",
   "metadata": {},
   "source": [
    "Some of the most popular libraries (especially python) that Data Scientists use are as follows:\n",
    "1. NumPy\n",
    "2. SciPy\n",
    "3. Pandas\n",
    "4. Matplotlib\n",
    "5. Keras\n",
    "6. TensorFlow\n",
    "7. SciKit-Learn\n",
    "8. PyTorch\n",
    "9. Seaborn\n",
    "10. XGBoost"
   ]
  },
  {
   "cell_type": "markdown",
   "id": "2af5ea20-205a-43ff-9dc6-b5a6b2fdf772",
   "metadata": {},
   "source": [
    "Data Science Tools"
   ]
  },
  {
   "cell_type": "markdown",
   "id": "8dee95da-e876-4cad-82c6-1bc31e974bd2",
   "metadata": {},
   "source": [
    "| |Data Management Tools|Data Integration and Transformation Tools|Software Tools|\n",
    "|---:|:-------------|:-------------|:-----------|\n",
    "|1|MySQL and PostgreSQL|Apache AirFlow|Anaconda Python distribution|\n",
    "|2|MongoDB Apache CouchDB| Apache Kafka|Jupyter notebooks for Python and R|\n",
    "|3|Hadoop File System|Apache SparkSQL|RapidMiner|\n"
   ]
  },
  {
   "cell_type": "markdown",
   "id": "2f8a0680-f7bb-4b2e-a48e-074a94cae1ef",
   "metadata": {},
   "source": [
    "Below are a few examples of evaluating arithmetic expressions in Python"
   ]
  },
  {
   "cell_type": "code",
   "execution_count": 7,
   "id": "e5cf65d6-1f62-4aa5-9f78-a4b0e3a9fdf8",
   "metadata": {},
   "outputs": [
    {
     "data": {
      "text/plain": [
       "25"
      ]
     },
     "execution_count": 7,
     "metadata": {},
     "output_type": "execute_result"
    }
   ],
   "source": [
    "(2*8)+9\n",
    "#This a simple arithmetic expression to mutiply then add integers"
   ]
  },
  {
   "cell_type": "code",
   "execution_count": 8,
   "id": "b2a39e40-3421-4eda-9989-5114b51f371d",
   "metadata": {},
   "outputs": [
    {
     "name": "stdout",
     "output_type": "stream",
     "text": [
      "3.3333333333333335\n"
     ]
    }
   ],
   "source": [
    "a=200 #minutes\n",
    "b=a/60 #hours\n",
    "print(b)\n",
    "#This will convert 200 minutes to hours by diving by 60"
   ]
  },
  {
   "cell_type": "markdown",
   "id": "67e1df42-fca7-4259-aa43-d57b2607a40f",
   "metadata": {},
   "source": [
    "AUTHOR\n",
    "\n",
    "Vineeth Kanekal"
   ]
  },
  {
   "cell_type": "code",
   "execution_count": null,
   "id": "39ed0cd9-2ff8-4fd4-b4b5-ff8c94fd0816",
   "metadata": {},
   "outputs": [],
   "source": []
  }
 ],
 "metadata": {
  "kernelspec": {
   "display_name": "Python",
   "language": "python",
   "name": "conda-env-python-py"
  },
  "language_info": {
   "codemirror_mode": {
    "name": "ipython",
    "version": 3
   },
   "file_extension": ".py",
   "mimetype": "text/x-python",
   "name": "python",
   "nbconvert_exporter": "python",
   "pygments_lexer": "ipython3",
   "version": "3.7.12"
  }
 },
 "nbformat": 4,
 "nbformat_minor": 5
}
